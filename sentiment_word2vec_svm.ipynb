{
 "cells": [
  {
   "cell_type": "markdown",
   "id": "c9d108e5",
   "metadata": {},
   "source": [
    "# Process raw data"
   ]
  },
  {
   "cell_type": "code",
   "execution_count": 2,
   "id": "8f9ccf35",
   "metadata": {},
   "outputs": [],
   "source": [
    "import pandas as pd\n",
    "import numpy as np\n",
    "import jieba"
   ]
  },
  {
   "cell_type": "markdown",
   "id": "df09dc46",
   "metadata": {},
   "source": [
    "CommentsAll是新的数据  \n",
    "CommentsType中前500条是好评，中间500条是中评，最后500条是差评；500条好评和500条差评中除去和CommentsAll重复的评论是拿来训练的语料"
   ]
  },
  {
   "cell_type": "code",
   "execution_count": 3,
   "id": "7e1ed442",
   "metadata": {},
   "outputs": [],
   "source": [
    "CommentsAll = pd.read_pickle('HotComments_all.pkl')\n",
    "CommentsType = pd.read_pickle('HotComments_byType.pkl')"
   ]
  },
  {
   "cell_type": "code",
   "execution_count": 25,
   "id": "8df75ba7",
   "metadata": {},
   "outputs": [],
   "source": [
    "# generate two files of positive and negative comments\n",
    "def getPosNeg(A=CommentsAll, T=CommentsType):\n",
    "    pos = []\n",
    "    neg = []\n",
    "    for film in T:\n",
    "        pos1film = list(T[film]['Comment'][:500])\n",
    "        neg1film = list(T[film]['Comment'][1000:])\n",
    "        for i in range(len(pos1film)):\n",
    "            if pos1film[i] not in list(A[film]['Comment']):\n",
    "                pos.append(pos1film[i])\n",
    "            if neg1film[i] not in list(A[film]['Comment']):\n",
    "                neg.append(neg1film[i])\n",
    "    \n",
    "    pos_data = pd.DataFrame({'Comment':pos})\n",
    "    neg_data = pd.DataFrame({'Comment':neg})\n",
    "    pos_data.to_excel('svm_data/pos.xlsx', header=False, index=False)\n",
    "    neg_data.to_excel('svm_data/neg.xlsx', header=False, index=False)\n",
    "    \n",
    "    return pos_data, neg_data"
   ]
  },
  {
   "cell_type": "code",
   "execution_count": 27,
   "id": "82b5255c",
   "metadata": {},
   "outputs": [],
   "source": [
    "pos, neg = getPosNeg()"
   ]
  },
  {
   "cell_type": "markdown",
   "id": "ec715187",
   "metadata": {},
   "source": [
    "# Train Word2Vec model"
   ]
  },
  {
   "cell_type": "code",
   "execution_count": 29,
   "id": "5912911b",
   "metadata": {},
   "outputs": [],
   "source": [
    "from sklearn.model_selection import train_test_split\n",
    "from gensim.models.word2vec import Word2Vec  #构造词向量"
   ]
  },
  {
   "cell_type": "markdown",
   "id": "7cbe0b84",
   "metadata": {},
   "source": [
    "## Generate the training set and the test set"
   ]
  },
  {
   "cell_type": "code",
   "execution_count": 165,
   "id": "fbb6830a",
   "metadata": {},
   "outputs": [],
   "source": [
    "jieba.load_userdict('corpus/mydict-sougou.txt')"
   ]
  },
  {
   "cell_type": "code",
   "execution_count": 166,
   "id": "6cf91028",
   "metadata": {},
   "outputs": [
    {
     "data": {
      "text/plain": [
       "768"
      ]
     },
     "execution_count": 166,
     "metadata": {},
     "output_type": "execute_result"
    }
   ],
   "source": [
    "stopwords = open('corpus/HGDstopwords.txt', 'r+', encoding='utf-8')\n",
    "mySW = stopwords.read().split(\"\\n\")\n",
    "mySW = [word.strip() for word in mySW]\n",
    "len(mySW)"
   ]
  },
  {
   "cell_type": "code",
   "execution_count": 50,
   "id": "7880f111",
   "metadata": {},
   "outputs": [],
   "source": [
    "# function for word tokenization\n",
    "def cutWords(comment, stopwords=mySW):\n",
    "    myWords = []\n",
    "    words = list(jieba.cut(comment))\n",
    "    for word in words:\n",
    "        if word not in stopwords:\n",
    "            myWords.append(word)\n",
    "    \n",
    "    return myWords"
   ]
  },
  {
   "cell_type": "code",
   "execution_count": 54,
   "id": "e7886e8b",
   "metadata": {},
   "outputs": [],
   "source": [
    "# tokenize words of the positive and negative comments, train test split\n",
    "def getTrainData(pos, neg):\n",
    "    pos['words'] = pos['Comment'].apply(cutWords)      #执行分词，了解apply的价值作用\n",
    "    neg['words'] = neg['Comment'].apply(cutWords)\n",
    "\n",
    "    #use 1 for positive (正面，积极的) sentiment, 0 for negative (负面，消极的)\n",
    "    y = np.concatenate((np.ones(len(pos)), np.zeros(len(neg)))) #构造标记值y,由concatenate合并正、负语料数得到\n",
    "\n",
    "    x_train, x_test, y_train, y_test = train_test_split(np.concatenate((pos['words'], neg['words'])), y, \n",
    "                                                        test_size=0.2, random_state=3)\n",
    "    \n",
    "    np.save('svm_data/y_train.npy',y_train)   #将训练标记存储起来，以备后用\n",
    "    np.save('svm_data/y_test.npy',y_test)     #将测试标记存储起来，以备后用\n",
    "    return x_train,x_test      #返回训练集和测试集数据"
   ]
  },
  {
   "cell_type": "code",
   "execution_count": 57,
   "id": "18472a81",
   "metadata": {},
   "outputs": [],
   "source": [
    "x_train,x_test = getTrainData(pos, neg)"
   ]
  },
  {
   "cell_type": "code",
   "execution_count": 58,
   "id": "4fc707c0",
   "metadata": {},
   "outputs": [
    {
     "name": "stdout",
     "output_type": "stream",
     "text": [
      "['合家欢', '父母', '子女', '情', '很', '懂', '市场', '节令', '小妖', '王萌到', '心软']\n",
      "合家欢\n"
     ]
    }
   ],
   "source": [
    "print(x_train[0])\n",
    "print(x_train[0][0])"
   ]
  },
  {
   "cell_type": "markdown",
   "id": "dd8702ff",
   "metadata": {},
   "source": [
    "## Train Word2Vec"
   ]
  },
  {
   "cell_type": "code",
   "execution_count": 61,
   "id": "54904f77",
   "metadata": {},
   "outputs": [],
   "source": [
    "import logging\n",
    "logging.basicConfig(format='%(asctime)s : %(levelname)s : %(message)s', level=logging.INFO)"
   ]
  },
  {
   "cell_type": "code",
   "execution_count": 95,
   "id": "c0eb77e9",
   "metadata": {},
   "outputs": [],
   "source": [
    "#对每个句子的所有词向量取均值\n",
    "def buildWordVector(text, size, my_w2v):\n",
    "    #text：一条文本，size一个词向量维度，my_w2v训练好的词向量\n",
    "    vec = np.zeros(size).reshape((1, size)) #初始一个1行size列的向量\n",
    "    count = 0.\n",
    "    for word in text:\n",
    "        try:\n",
    "            vec += my_w2v.wv[word].reshape((1, size))\n",
    "            count += 1.\n",
    "        except KeyError:\n",
    "            continue\n",
    "    if count != 0:\n",
    "        vec /= count  #求均值\n",
    "    return vec"
   ]
  },
  {
   "cell_type": "code",
   "execution_count": 96,
   "id": "19de7f8c",
   "metadata": {
    "scrolled": true
   },
   "outputs": [
    {
     "name": "stderr",
     "output_type": "stream",
     "text": [
      "2021-12-20 16:24:45,150 : INFO : Word2Vec lifecycle event {'params': 'Word2Vec(vocab=0, vector_size=300, alpha=0.025)', 'datetime': '2021-12-20T16:24:45.150275', 'gensim': '4.0.1', 'python': '3.7.4 (default, Aug 13 2019, 15:17:50) \\n[Clang 4.0.1 (tags/RELEASE_401/final)]', 'platform': 'Darwin-20.6.0-x86_64-i386-64bit', 'event': 'created'}\n",
      "2021-12-20 16:24:45,158 : INFO : collecting all words and their counts\n",
      "2021-12-20 16:24:45,159 : INFO : PROGRESS: at sentence #0, processed 0 words, keeping 0 word types\n",
      "2021-12-20 16:24:45,239 : INFO : collected 23518 word types from a corpus of 158574 raw words and 7516 sentences\n",
      "2021-12-20 16:24:45,240 : INFO : Creating a fresh vocabulary\n",
      "2021-12-20 16:24:45,287 : INFO : Word2Vec lifecycle event {'msg': 'effective_min_count=5 retains 4344 unique words (18.470958414831195%% of original 23518, drops 19174)', 'datetime': '2021-12-20T16:24:45.287661', 'gensim': '4.0.1', 'python': '3.7.4 (default, Aug 13 2019, 15:17:50) \\n[Clang 4.0.1 (tags/RELEASE_401/final)]', 'platform': 'Darwin-20.6.0-x86_64-i386-64bit', 'event': 'prepare_vocab'}\n",
      "2021-12-20 16:24:45,288 : INFO : Word2Vec lifecycle event {'msg': 'effective_min_count=5 leaves 129934 word corpus (81.93903161930707%% of original 158574, drops 28640)', 'datetime': '2021-12-20T16:24:45.288560', 'gensim': '4.0.1', 'python': '3.7.4 (default, Aug 13 2019, 15:17:50) \\n[Clang 4.0.1 (tags/RELEASE_401/final)]', 'platform': 'Darwin-20.6.0-x86_64-i386-64bit', 'event': 'prepare_vocab'}\n",
      "2021-12-20 16:24:45,330 : INFO : deleting the raw counts dictionary of 23518 items\n",
      "2021-12-20 16:24:45,332 : INFO : sample=0.001 downsamples 43 most-common words\n",
      "2021-12-20 16:24:45,334 : INFO : Word2Vec lifecycle event {'msg': 'downsampling leaves estimated 116039.1097504893 word corpus (89.3%% of prior 129934)', 'datetime': '2021-12-20T16:24:45.334709', 'gensim': '4.0.1', 'python': '3.7.4 (default, Aug 13 2019, 15:17:50) \\n[Clang 4.0.1 (tags/RELEASE_401/final)]', 'platform': 'Darwin-20.6.0-x86_64-i386-64bit', 'event': 'prepare_vocab'}\n",
      "2021-12-20 16:24:45,420 : INFO : estimated required memory for 4344 words and 300 dimensions: 12597600 bytes\n",
      "2021-12-20 16:24:45,422 : INFO : resetting layer weights\n",
      "2021-12-20 16:24:45,436 : INFO : Word2Vec lifecycle event {'update': False, 'trim_rule': 'None', 'datetime': '2021-12-20T16:24:45.436116', 'gensim': '4.0.1', 'python': '3.7.4 (default, Aug 13 2019, 15:17:50) \\n[Clang 4.0.1 (tags/RELEASE_401/final)]', 'platform': 'Darwin-20.6.0-x86_64-i386-64bit', 'event': 'build_vocab'}\n",
      "2021-12-20 16:24:45,437 : INFO : Word2Vec lifecycle event {'msg': 'training model with 3 workers on 4344 vocabulary and 300 features, using sg=1 hs=0 sample=0.001 negative=5 window=5', 'datetime': '2021-12-20T16:24:45.437723', 'gensim': '4.0.1', 'python': '3.7.4 (default, Aug 13 2019, 15:17:50) \\n[Clang 4.0.1 (tags/RELEASE_401/final)]', 'platform': 'Darwin-20.6.0-x86_64-i386-64bit', 'event': 'train'}\n",
      "2021-12-20 16:24:45,922 : INFO : worker thread finished; awaiting finish of 2 more threads\n",
      "2021-12-20 16:24:45,931 : INFO : worker thread finished; awaiting finish of 1 more threads\n",
      "2021-12-20 16:24:45,988 : INFO : worker thread finished; awaiting finish of 0 more threads\n",
      "2021-12-20 16:24:45,989 : INFO : EPOCH - 1 : training on 158574 raw words (116175 effective words) took 0.5s, 216435 effective words/s\n",
      "2021-12-20 16:24:46,526 : INFO : worker thread finished; awaiting finish of 2 more threads\n",
      "2021-12-20 16:24:46,549 : INFO : worker thread finished; awaiting finish of 1 more threads\n",
      "2021-12-20 16:24:46,600 : INFO : worker thread finished; awaiting finish of 0 more threads\n",
      "2021-12-20 16:24:46,600 : INFO : EPOCH - 2 : training on 158574 raw words (116138 effective words) took 0.6s, 194479 effective words/s\n",
      "2021-12-20 16:24:47,227 : INFO : worker thread finished; awaiting finish of 2 more threads\n",
      "2021-12-20 16:24:47,234 : INFO : worker thread finished; awaiting finish of 1 more threads\n",
      "2021-12-20 16:24:47,322 : INFO : worker thread finished; awaiting finish of 0 more threads\n",
      "2021-12-20 16:24:47,323 : INFO : EPOCH - 3 : training on 158574 raw words (115939 effective words) took 0.7s, 163283 effective words/s\n",
      "2021-12-20 16:24:47,895 : INFO : worker thread finished; awaiting finish of 2 more threads\n",
      "2021-12-20 16:24:47,904 : INFO : worker thread finished; awaiting finish of 1 more threads\n",
      "2021-12-20 16:24:47,964 : INFO : worker thread finished; awaiting finish of 0 more threads\n",
      "2021-12-20 16:24:47,965 : INFO : EPOCH - 4 : training on 158574 raw words (115948 effective words) took 0.6s, 183496 effective words/s\n",
      "2021-12-20 16:24:48,465 : INFO : worker thread finished; awaiting finish of 2 more threads\n",
      "2021-12-20 16:24:48,470 : INFO : worker thread finished; awaiting finish of 1 more threads\n",
      "2021-12-20 16:24:48,540 : INFO : worker thread finished; awaiting finish of 0 more threads\n",
      "2021-12-20 16:24:48,542 : INFO : EPOCH - 5 : training on 158574 raw words (116024 effective words) took 0.6s, 205024 effective words/s\n",
      "2021-12-20 16:24:48,544 : INFO : Word2Vec lifecycle event {'msg': 'training on 792870 raw words (580224 effective words) took 3.1s, 186870 effective words/s', 'datetime': '2021-12-20T16:24:48.543984', 'gensim': '4.0.1', 'python': '3.7.4 (default, Aug 13 2019, 15:17:50) \\n[Clang 4.0.1 (tags/RELEASE_401/final)]', 'platform': 'Darwin-20.6.0-x86_64-i386-64bit', 'event': 'train'}\n",
      "2021-12-20 16:24:49,392 : WARNING : Effective 'alpha' higher than previous training cycles\n",
      "2021-12-20 16:24:49,393 : INFO : Word2Vec lifecycle event {'msg': 'training model with 3 workers on 4344 vocabulary and 300 features, using sg=1 hs=0 sample=0.001 negative=5 window=5', 'datetime': '2021-12-20T16:24:49.393327', 'gensim': '4.0.1', 'python': '3.7.4 (default, Aug 13 2019, 15:17:50) \\n[Clang 4.0.1 (tags/RELEASE_401/final)]', 'platform': 'Darwin-20.6.0-x86_64-i386-64bit', 'event': 'train'}\n",
      "2021-12-20 16:24:49,509 : INFO : worker thread finished; awaiting finish of 2 more threads\n",
      "2021-12-20 16:24:49,515 : INFO : worker thread finished; awaiting finish of 1 more threads\n",
      "2021-12-20 16:24:49,582 : INFO : worker thread finished; awaiting finish of 0 more threads\n",
      "2021-12-20 16:24:49,584 : INFO : EPOCH - 1 : training on 40263 raw words (28572 effective words) took 0.2s, 156673 effective words/s\n",
      "2021-12-20 16:24:49,585 : WARNING : EPOCH - 1 : supplied example count (1879) did not equal expected count (7516)\n"
     ]
    },
    {
     "name": "stdout",
     "output_type": "stream",
     "text": [
      "(7516, 300)\n"
     ]
    },
    {
     "name": "stderr",
     "output_type": "stream",
     "text": [
      "2021-12-20 16:24:49,743 : INFO : worker thread finished; awaiting finish of 2 more threads\n",
      "2021-12-20 16:24:49,747 : INFO : worker thread finished; awaiting finish of 1 more threads\n",
      "2021-12-20 16:24:49,818 : INFO : worker thread finished; awaiting finish of 0 more threads\n",
      "2021-12-20 16:24:49,819 : INFO : EPOCH - 2 : training on 40263 raw words (28535 effective words) took 0.2s, 128680 effective words/s\n",
      "2021-12-20 16:24:49,819 : WARNING : EPOCH - 2 : supplied example count (1879) did not equal expected count (7516)\n",
      "2021-12-20 16:24:50,013 : INFO : worker thread finished; awaiting finish of 2 more threads\n",
      "2021-12-20 16:24:50,032 : INFO : worker thread finished; awaiting finish of 1 more threads\n",
      "2021-12-20 16:24:50,099 : INFO : worker thread finished; awaiting finish of 0 more threads\n",
      "2021-12-20 16:24:50,100 : INFO : EPOCH - 3 : training on 40263 raw words (28572 effective words) took 0.2s, 126094 effective words/s\n",
      "2021-12-20 16:24:50,100 : WARNING : EPOCH - 3 : supplied example count (1879) did not equal expected count (7516)\n",
      "2021-12-20 16:24:50,218 : INFO : worker thread finished; awaiting finish of 2 more threads\n",
      "2021-12-20 16:24:50,225 : INFO : worker thread finished; awaiting finish of 1 more threads\n",
      "2021-12-20 16:24:50,311 : INFO : worker thread finished; awaiting finish of 0 more threads\n",
      "2021-12-20 16:24:50,312 : INFO : EPOCH - 4 : training on 40263 raw words (28540 effective words) took 0.2s, 144630 effective words/s\n",
      "2021-12-20 16:24:50,313 : WARNING : EPOCH - 4 : supplied example count (1879) did not equal expected count (7516)\n",
      "2021-12-20 16:24:50,431 : INFO : worker thread finished; awaiting finish of 2 more threads\n",
      "2021-12-20 16:24:50,433 : INFO : worker thread finished; awaiting finish of 1 more threads\n",
      "2021-12-20 16:24:50,500 : INFO : worker thread finished; awaiting finish of 0 more threads\n",
      "2021-12-20 16:24:50,500 : INFO : EPOCH - 5 : training on 40263 raw words (28610 effective words) took 0.2s, 161750 effective words/s\n",
      "2021-12-20 16:24:50,501 : WARNING : EPOCH - 5 : supplied example count (1879) did not equal expected count (7516)\n",
      "2021-12-20 16:24:50,502 : INFO : Word2Vec lifecycle event {'msg': 'training on 201315 raw words (142829 effective words) took 1.1s, 128852 effective words/s', 'datetime': '2021-12-20T16:24:50.502457', 'gensim': '4.0.1', 'python': '3.7.4 (default, Aug 13 2019, 15:17:50) \\n[Clang 4.0.1 (tags/RELEASE_401/final)]', 'platform': 'Darwin-20.6.0-x86_64-i386-64bit', 'event': 'train'}\n",
      "2021-12-20 16:24:50,503 : INFO : Word2Vec lifecycle event {'fname_or_handle': 'svm_data/w2v_model.pkl', 'separately': 'None', 'sep_limit': 10485760, 'ignore': frozenset(), 'datetime': '2021-12-20T16:24:50.503841', 'gensim': '4.0.1', 'python': '3.7.4 (default, Aug 13 2019, 15:17:50) \\n[Clang 4.0.1 (tags/RELEASE_401/final)]', 'platform': 'Darwin-20.6.0-x86_64-i386-64bit', 'event': 'saving'}\n",
      "2021-12-20 16:24:50,506 : INFO : not storing attribute cum_table\n",
      "2021-12-20 16:24:50,536 : INFO : saved svm_data/w2v_model.pkl\n"
     ]
    },
    {
     "name": "stdout",
     "output_type": "stream",
     "text": [
      "(1879, 300)\n"
     ]
    }
   ],
   "source": [
    "n_dim = 300\n",
    "#初始化词向量模型和构建词汇表\n",
    "my_w2v = Word2Vec(vector_size=n_dim, window=5, min_count=5, sg=1)  #size特征向量的维数，min_count小于该词频数单词将被抛弃\n",
    "my_w2v.build_vocab(x_train)                  #构建词汇表\n",
    "\n",
    "#在训练集上训练模型（这可能需要几分钟的时间）\n",
    "my_w2v.train(x_train,total_examples=my_w2v.corpus_count, epochs=my_w2v.epochs)\n",
    "\n",
    "# get the train_vecs for svm\n",
    "train_vecs = np.concatenate([buildWordVector(z, n_dim, my_w2v) for z in x_train])\n",
    "np.save('svm_data/train_vecs.npy',train_vecs)\n",
    "print(train_vecs.shape)\n",
    "\n",
    "#Train word2vec on the test set\n",
    "my_w2v.train(x_test,total_examples=my_w2v.corpus_count, epochs=my_w2v.epochs)\n",
    "my_w2v.save('svm_data/w2v_model.pkl')\n",
    "\n",
    "# get the test_vecs for svm\n",
    "test_vecs = np.concatenate([buildWordVector(z, n_dim,my_w2v) for z in x_test])\n",
    "np.save('svm_data/test_vecs.npy',test_vecs)\n",
    "print(test_vecs.shape)"
   ]
  },
  {
   "cell_type": "markdown",
   "id": "032d4c97",
   "metadata": {},
   "source": [
    "训练好的模型为`my_w2v`  \n",
    "`train_vecs` 和 `test_vecs` 用于训练之后的svm"
   ]
  },
  {
   "cell_type": "markdown",
   "id": "9eacc5f4",
   "metadata": {},
   "source": [
    "## Calculate word similarity"
   ]
  },
  {
   "cell_type": "markdown",
   "id": "a574a281",
   "metadata": {},
   "source": [
    "Use the Word2Vec model to calculate word similarity between words in the comments and words of film attributes"
   ]
  },
  {
   "cell_type": "code",
   "execution_count": 149,
   "id": "8006a3ce",
   "metadata": {},
   "outputs": [],
   "source": [
    "chaWords = ['特效','剧情','人物','喜剧','导演','演员','演技'] # words of film attributes\n",
    "filmYearDict = {\n",
    "    2016: ['meirenyu', 'xiyouji', 'aomen'],\n",
    "    2017: ['gongfu', 'xiyoufuyao', 'chengfeng'],\n",
    "    2018: ['honghai', 'chinatown2', 'zhuoyaoji2'],\n",
    "    2019: ['liulangdiqiu', 'waixingren', 'feichirensheng'],\n",
    "    2021: ['lihuanying', 'chinatown3', 'xiaoshuojia']\n",
    "}"
   ]
  },
  {
   "cell_type": "code",
   "execution_count": 101,
   "id": "49fa2a69",
   "metadata": {},
   "outputs": [],
   "source": [
    "# 对CommentsAll中的15部电影评论进行分词\n",
    "for film in CommentsAll:\n",
    "    CommentsAll[film]['words'] = CommentsAll[film]['Comment'].apply(cutWords)"
   ]
  },
  {
   "cell_type": "code",
   "execution_count": 121,
   "id": "5335c723",
   "metadata": {},
   "outputs": [],
   "source": [
    "# 对CommentsAll生成每年的corpus（3部电影为一年）\n",
    "def corpusYear(year):\n",
    "    film1 = filmYearDict[year][0]\n",
    "    film2 = filmYearDict[year][1]\n",
    "    film3 = filmYearDict[year][2]\n",
    "    corpus = np.concatenate((CommentsAll[film1]['words'], CommentsAll[film2]['words'], CommentsAll[film3]['words']))\n",
    "    corpus = [word for comment in corpus for word in comment if word not in (' ', '…', '⋯', '\\n')]\n",
    "    \n",
    "    return corpus"
   ]
  },
  {
   "cell_type": "code",
   "execution_count": 124,
   "id": "0a495a35",
   "metadata": {},
   "outputs": [],
   "source": [
    "corpusYearDict = dict.fromkeys([2016, 2017, 2018, 2019, 2021])\n",
    "for year in corpusYearDict:\n",
    "    corpusYearDict[year] = corpusYear(year)"
   ]
  },
  {
   "cell_type": "code",
   "execution_count": 126,
   "id": "964c98ce",
   "metadata": {},
   "outputs": [
    {
     "name": "stdout",
     "output_type": "stream",
     "text": [
      "26940\n",
      "31451\n",
      "31830\n",
      "52158\n",
      "44635\n"
     ]
    }
   ],
   "source": [
    "for year in corpusYearDict: print(len(corpusYearDict[year]))"
   ]
  },
  {
   "cell_type": "code",
   "execution_count": 127,
   "id": "6def6bf6",
   "metadata": {},
   "outputs": [],
   "source": [
    "# 得到每年的高频词，并计算它们与电影特征词之间的相似度，构建电影特征词表\n",
    "from collections import Counter\n",
    "\n",
    "corpusYearCountDict = dict.fromkeys([2016,2017,2018,2019,2021])\n",
    "\n",
    "for year in corpusYearCountDict:\n",
    "    corpusYearCountDict[year] = Counter(corpusYearDict[year])"
   ]
  },
  {
   "cell_type": "code",
   "execution_count": 154,
   "id": "b95aaf86",
   "metadata": {},
   "outputs": [],
   "source": [
    "def countSimilarity(year, chaWord, mostCommon=2000, threshold=0.7):\n",
    "    wordsCalculated = [word for word,freq in corpusYearCountDict[year].most_common(mostCommon)]\n",
    "    \n",
    "    mostSimilar = []\n",
    "    for word in wordsCalculated:\n",
    "        try:\n",
    "            if my_w2v.wv.similarity(chaWord,word) >= threshold:\n",
    "                mostSimilar.append(word)\n",
    "        except KeyError:\n",
    "            continue\n",
    "    \n",
    "    return mostSimilar"
   ]
  },
  {
   "cell_type": "code",
   "execution_count": 163,
   "id": "18d3d492",
   "metadata": {},
   "outputs": [],
   "source": [
    "def getSimilarity4Cha(year, chaWords=chaWords, mostCommon=2000, threshold=0.7):\n",
    "    chaWordsDict = dict.fromkeys(chaWords)\n",
    "    for chaWord in chaWords:\n",
    "        chaWordsDict[chaWord] = countSimilarity(year, chaWord, mostCommon=mostCommon, threshold=threshold)\n",
    "    \n",
    "    myCWdict = pd.concat([pd.DataFrame({chaWord: chaWordsDict[chaWord]}) for chaWord in chaWordsDict], axis=1)\n",
    "    myCWdict.fillna('')\n",
    "    \n",
    "    myCWdict.to_excel('ChaWordsDict_year/CWdict'+str(year)+'.xlsx', index=False)\n",
    "    return myCWdict"
   ]
  },
  {
   "cell_type": "code",
   "execution_count": 164,
   "id": "e499548f",
   "metadata": {},
   "outputs": [],
   "source": [
    "for year in [2016, 2017, 2018, 2019, 2021]:\n",
    "    getSimilarity4Cha(year)"
   ]
  },
  {
   "cell_type": "markdown",
   "id": "27ff7f47",
   "metadata": {},
   "source": [
    "# Sentiment analysis based on SVM"
   ]
  },
  {
   "cell_type": "markdown",
   "id": "fbc56636",
   "metadata": {},
   "source": [
    "## Train SVM model"
   ]
  },
  {
   "cell_type": "code",
   "execution_count": 179,
   "id": "53f7191b",
   "metadata": {},
   "outputs": [],
   "source": [
    "import joblib   #模型持久化\n",
    "from sklearn.svm import SVC\n",
    "from sklearn.preprocessing import scale"
   ]
  },
  {
   "cell_type": "code",
   "execution_count": 167,
   "id": "fc684c31",
   "metadata": {},
   "outputs": [],
   "source": [
    "def get_data():\n",
    "    train_vecs=np.load('svm_data/train_vecs.npy')\n",
    "    y_train=np.load('svm_data/y_train.npy')\n",
    "    test_vecs=np.load('svm_data/test_vecs.npy')\n",
    "    y_test=np.load('svm_data/y_test.npy') \n",
    "    return train_vecs,y_train,test_vecs,y_test"
   ]
  },
  {
   "cell_type": "code",
   "execution_count": 180,
   "id": "19d546a2",
   "metadata": {},
   "outputs": [],
   "source": [
    "train_vecs,y_train,test_vecs,y_test=get_data()   #导入保存的训练数据和测试数据\n",
    "train_vecs = scale(train_vecs)\n",
    "test_vecs = scale(test_vecs)"
   ]
  },
  {
   "cell_type": "code",
   "execution_count": 396,
   "id": "88e2f8a5",
   "metadata": {},
   "outputs": [
    {
     "name": "stdout",
     "output_type": "stream",
     "text": [
      "7516 7516\n",
      "3981.0\n"
     ]
    }
   ],
   "source": [
    "print(len(train_vecs), len(y_train))\n",
    "print(sum(y_train))"
   ]
  },
  {
   "cell_type": "code",
   "execution_count": 397,
   "id": "be99180f",
   "metadata": {},
   "outputs": [
    {
     "data": {
      "text/plain": [
       "3535"
      ]
     },
     "execution_count": 397,
     "metadata": {},
     "output_type": "execute_result"
    }
   ],
   "source": [
    "7516-3981"
   ]
  },
  {
   "cell_type": "code",
   "execution_count": 181,
   "id": "9c745f1f",
   "metadata": {},
   "outputs": [],
   "source": [
    "# train svm\n",
    "def svm_train(train_vecs,y_train,test_vecs,y_test):\n",
    "    clf=SVC(kernel='rbf',verbose=True)\n",
    "    clf.fit(train_vecs,y_train)\n",
    "    joblib.dump(clf, 'svm_data/svm_model.pkl') #保存训练好的模型\n",
    "    print(clf.score(test_vecs,y_test))    #输出模型评估\n",
    "    return clf"
   ]
  },
  {
   "cell_type": "code",
   "execution_count": 182,
   "id": "9c71101b",
   "metadata": {
    "scrolled": true
   },
   "outputs": [
    {
     "name": "stdout",
     "output_type": "stream",
     "text": [
      "[LibSVM]....*.*\n",
      "optimization finished, #iter = 5162\n",
      "obj = -4550.304740, rho = -0.073086\n",
      "nSV = 5075, nBSV = 4654\n",
      "Total nSV = 5075\n",
      "0.7243214475784993\n"
     ]
    },
    {
     "data": {
      "text/plain": [
       "SVC(verbose=True)"
      ]
     },
     "execution_count": 182,
     "metadata": {},
     "output_type": "execute_result"
    }
   ],
   "source": [
    "svm_train(train_vecs,y_train,test_vecs,y_test)   #训练svm并保存模型"
   ]
  },
  {
   "cell_type": "code",
   "execution_count": 183,
   "id": "15987f7f",
   "metadata": {},
   "outputs": [],
   "source": [
    "clf = joblib.load('svm_data/svm_model.pkl')\n",
    "y_predict = clf.predict(test_vecs)"
   ]
  },
  {
   "cell_type": "code",
   "execution_count": 184,
   "id": "f6ef060b",
   "metadata": {},
   "outputs": [
    {
     "name": "stdout",
     "output_type": "stream",
     "text": [
      "              precision    recall  f1-score   support\n",
      "\n",
      "         0.0       0.70      0.71      0.71       878\n",
      "         1.0       0.74      0.74      0.74      1001\n",
      "\n",
      "    accuracy                           0.72      1879\n",
      "   macro avg       0.72      0.72      0.72      1879\n",
      "weighted avg       0.72      0.72      0.72      1879\n",
      "\n"
     ]
    }
   ],
   "source": [
    "# performance metrics\n",
    "from sklearn.metrics import classification_report\n",
    "print(classification_report(y_test,y_predict))"
   ]
  },
  {
   "cell_type": "code",
   "execution_count": 187,
   "id": "3cf61229",
   "metadata": {},
   "outputs": [
    {
     "data": {
      "image/png": "[encoded data removed]",
      "text/plain": [
       "<Figure size 700x420 with 1 Axes>"
      ]
     },
     "metadata": {
      "needs_background": "light"
     },
     "output_type": "display_data"
    }
   ],
   "source": [
    "# plot the ROC curve\n",
    "from sklearn.metrics import roc_curve\n",
    "import matplotlib.pyplot as plt\n",
    "\n",
    "plt.rcParams['savefig.dpi'] = 300 # 图片像素\n",
    "plt.rcParams['figure.dpi'] = 70 # 分辨率\n",
    "\n",
    "## 求出ROC曲线的x轴和y轴\n",
    "fpr, tpr, thresholds = \\\n",
    "roc_curve(y_test,y_predict)\n",
    "fig = plt.figure(3, (10,6))\n",
    "plt.xlim(0,1) ##设定x轴的范围\n",
    "plt.ylim(0.0,1.1) ## 设定y轴的范围\n",
    "plt.xlabel('False Postive Rate')\n",
    "plt.ylabel('True Postive Rate')\n",
    "plt.plot(fpr,tpr,linewidth=2, linestyle=\"-\",color='red')\n",
    "plt.show()\n",
    "fig.savefig('figures/svm_roc.png')"
   ]
  },
  {
   "cell_type": "code",
   "execution_count": 398,
   "id": "eb8ea7be",
   "metadata": {},
   "outputs": [
    {
     "data": {
      "text/plain": [
       "0.7235549188852151"
      ]
     },
     "execution_count": 398,
     "metadata": {},
     "output_type": "execute_result"
    }
   ],
   "source": [
    "# calculate AUC\n",
    "from sklearn.metrics import auc\n",
    "fpr, tpr, thresholds = roc_curve(y_test, y_predict, pos_label=1)\n",
    "auc(fpr, tpr)"
   ]
  },
  {
   "cell_type": "markdown",
   "id": "44b933bc",
   "metadata": {},
   "source": [
    "## Calculate sentiment polarity of each year's film reviews"
   ]
  },
  {
   "cell_type": "code",
   "execution_count": 359,
   "id": "c52bfb24",
   "metadata": {},
   "outputs": [],
   "source": [
    "# 得到每年的CommentsAll，用一个字典储存\n",
    "CommentsAll_year = dict.fromkeys(filmYearDict)\n",
    "for year in CommentsAll_year:\n",
    "    film1 = filmYearDict[year][0]\n",
    "    film2 = filmYearDict[year][1]\n",
    "    film3 = filmYearDict[year][2]\n",
    "    CommentsAll_year[year] = pd.concat([CommentsAll[film1],CommentsAll[film2],CommentsAll[film3]], \n",
    "                                        axis=0, ignore_index=True)"
   ]
  },
  {
   "cell_type": "code",
   "execution_count": null,
   "id": "3f328d11",
   "metadata": {
    "scrolled": true
   },
   "outputs": [],
   "source": [
    "for year in CommentsAll_year:\n",
    "    CommentsAll_year[year]['sentiment'] = np.zeros(len(CommentsAll_year[year]))\n",
    "    \n",
    "    vecs2predict = np.concatenate([buildWordVector(words, n_dim, my_w2v) for words in CommentsAll_year[year]['words']])\n",
    "    vecs2predict = scale(vecs2predict)\n",
    "    \n",
    "    for i in range(len(CommentsAll_year[year])):\n",
    "        vec = vecs2predict[i].reshape(1,-1)\n",
    "        CommentsAll_year[year]['sentiment'].loc[i] = int(clf.predict(vec)[0])"
   ]
  },
  {
   "cell_type": "code",
   "execution_count": 361,
   "id": "8ecbd7ad",
   "metadata": {},
   "outputs": [
    {
     "data": {
      "text/plain": [
       "sentiment\n",
       "0.0    665\n",
       "1.0    835\n",
       "dtype: int64"
      ]
     },
     "execution_count": 361,
     "metadata": {},
     "output_type": "execute_result"
    }
   ],
   "source": [
    "CommentsAll_year[2016].groupby(['sentiment']).size()"
   ]
  },
  {
   "cell_type": "code",
   "execution_count": 362,
   "id": "34fc8837",
   "metadata": {},
   "outputs": [
    {
     "data": {
      "text/plain": [
       "sentiment\n",
       "0.0    665\n",
       "1.0    835\n",
       "dtype: int64"
      ]
     },
     "execution_count": 362,
     "metadata": {},
     "output_type": "execute_result"
    }
   ],
   "source": [
    "CommentsAll_year[2017].groupby(['sentiment']).size()"
   ]
  },
  {
   "cell_type": "code",
   "execution_count": 363,
   "id": "7cade31b",
   "metadata": {},
   "outputs": [
    {
     "data": {
      "text/plain": [
       "sentiment\n",
       "0.0    746\n",
       "1.0    754\n",
       "dtype: int64"
      ]
     },
     "execution_count": 363,
     "metadata": {},
     "output_type": "execute_result"
    }
   ],
   "source": [
    "CommentsAll_year[2018].groupby(['sentiment']).size()"
   ]
  },
  {
   "cell_type": "code",
   "execution_count": 364,
   "id": "f108ce92",
   "metadata": {},
   "outputs": [
    {
     "data": {
      "text/plain": [
       "sentiment\n",
       "0.0    682\n",
       "1.0    818\n",
       "dtype: int64"
      ]
     },
     "execution_count": 364,
     "metadata": {},
     "output_type": "execute_result"
    }
   ],
   "source": [
    "CommentsAll_year[2019].groupby(['sentiment']).size()"
   ]
  },
  {
   "cell_type": "code",
   "execution_count": 365,
   "id": "b5e223eb",
   "metadata": {},
   "outputs": [
    {
     "data": {
      "text/plain": [
       "sentiment\n",
       "0.0    681\n",
       "1.0    819\n",
       "dtype: int64"
      ]
     },
     "execution_count": 365,
     "metadata": {},
     "output_type": "execute_result"
    }
   ],
   "source": [
    "CommentsAll_year[2021].groupby(['sentiment']).size()"
   ]
  },
  {
   "cell_type": "code",
   "execution_count": 372,
   "id": "bbd1446a",
   "metadata": {},
   "outputs": [],
   "source": [
    "for year in CommentsAll_year:\n",
    "    CommentsAll_year[year].to_excel('sentiment/sentiment'+str(year)+'.xlsx', index=False)"
   ]
  },
  {
   "cell_type": "code",
   "execution_count": 389,
   "id": "2221ca6a",
   "metadata": {},
   "outputs": [
    {
     "data": {
      "image/png": "[encoded data removed]",
      "text/plain": [
       "<Figure size 420x280 with 1 Axes>"
      ]
     },
     "metadata": {
      "needs_background": "light"
     },
     "output_type": "display_data"
    }
   ],
   "source": [
    "labels = ['2016', '2017', '2018', '2019', '2021']\n",
    "Positive = [835, 835, 754, 818, 819]\n",
    "Negative = [665, 665, 746, 682, 681]\n",
    " \n",
    "x = np.arange(len(labels))  # the label locations\n",
    "width = 0.3  # the width of the bars\n",
    " \n",
    "sentiment_bar = plt.figure()\n",
    "plt.bar(x - width/2, Positive, width, label='Positive', color='sandybrown')\n",
    "plt.bar(x + width/2, Negative, width, label='Negative', color='lightsteelblue')\n",
    " \n",
    "# Add some text for labels, title and \n",
    "# custom x-axis tick labels, etc.\n",
    "plt.ylabel('Comments')\n",
    "plt.ylim((0,900))\n",
    "plt.xticks( np.arange(5), labels )\n",
    "plt.legend(loc='lower right')\n",
    "plt.show()\n",
    "sentiment_bar.savefig('figures/sentiment_bar.png')"
   ]
  },
  {
   "cell_type": "code",
   "execution_count": null,
   "id": "4518f65a",
   "metadata": {},
   "outputs": [],
   "source": []
  }
 ],
 "metadata": {
  "kernelspec": {
   "display_name": "Python 3 (ipykernel)",
   "language": "python",
   "name": "python3"
  },
  "language_info": {
   "codemirror_mode": {
    "name": "ipython",
    "version": 3
   },
   "file_extension": ".py",
   "mimetype": "text/x-python",
   "name": "python",
   "nbconvert_exporter": "python",
   "pygments_lexer": "ipython3",
   "version": "3.9.7"
  },
  "toc": {
   "base_numbering": 1,
   "nav_menu": {},
   "number_sections": true,
   "sideBar": true,
   "skip_h1_title": false,
   "title_cell": "Table of Contents",
   "title_sidebar": "Contents",
   "toc_cell": false,
   "toc_position": {},
   "toc_section_display": true,
   "toc_window_display": false
  },
  "varInspector": {
   "cols": {
    "lenName": 16,
    "lenType": 16,
    "lenVar": 40
   },
   "kernels_config": {
    "python": {
     "delete_cmd_postfix": "",
     "delete_cmd_prefix": "del ",
     "library": "var_list.py",
     "varRefreshCmd": "print(var_dic_list())"
    },
    "r": {
     "delete_cmd_postfix": ") ",
     "delete_cmd_prefix": "rm(",
     "library": "var_list.r",
     "varRefreshCmd": "cat(var_dic_list()) "
    }
   },
   "types_to_exclude": [
    "module",
    "function",
    "builtin_function_or_method",
    "instance",
    "_Feature"
   ],
   "window_display": false
  }
 },
 "nbformat": 4,
 "nbformat_minor": 5
}
